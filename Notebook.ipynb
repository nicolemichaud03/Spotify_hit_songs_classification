{
 "cells": [
  {
   "cell_type": "markdown",
   "metadata": {},
   "source": [
    "# Spotify Hit Songs Classification"
   ]
  },
  {
   "cell_type": "markdown",
   "metadata": {},
   "source": [
    "Nicole Michaud, 8/7/2023"
   ]
  },
  {
   "cell_type": "markdown",
   "metadata": {},
   "source": [
    "## Business Problem"
   ]
  },
  {
   "cell_type": "markdown",
   "metadata": {},
   "source": [
    "There could be a number of factors that determine whether a song will be a hit or not. If we know what these factors are, we may be able to better predict how popular a song will be and therefore improve features such as user recommendations.\n",
    "\n",
    "By looking at Spotify data, can we use certain features to predict whether or not a song will be a hit? What features are most predictive of hit songs?"
   ]
  },
  {
   "cell_type": "markdown",
   "metadata": {},
   "source": [
    "## Data Understanding"
   ]
  },
  {
   "cell_type": "markdown",
   "metadata": {},
   "source": [
    "To begin, I import all the neccessary tools I will need for this project as well as the dataset I will be working with. I also explore the dataset to get a better understanding of the data it contains."
   ]
  },
  {
   "cell_type": "code",
   "execution_count": 1,
   "metadata": {},
   "outputs": [],
   "source": [
    "import numpy as np\n",
    "import pandas as pd\n",
    "import matplotlib.pyplot as plt\n",
    "%matplotlib inline\n",
    "import math\n",
    "import seaborn as sns\n",
    "sns.set(font_scale=2)\n",
    "from sklearn.linear_model import LogisticRegression\n",
    "from sklearn.model_selection import train_test_split, cross_val_score, GridSearchCV\n",
    "from sklearn.ensemble import AdaBoostClassifier, GradientBoostingClassifier, RandomForestClassifier\n",
    "from sklearn.metrics import precision_score, accuracy_score, f1_score, confusion_matrix, classification_report, roc_curve, auc, ConfusionMatrixDisplay\n",
    "from sklearn.tree import DecisionTreeClassifier\n",
    "from sklearn import tree\n",
    "from sklearn.neighbors import KNeighborsClassifier"
   ]
  },
  {
   "cell_type": "code",
   "execution_count": 2,
   "metadata": {
    "scrolled": false
   },
   "outputs": [
    {
     "data": {
      "text/html": [
       "<div>\n",
       "<style scoped>\n",
       "    .dataframe tbody tr th:only-of-type {\n",
       "        vertical-align: middle;\n",
       "    }\n",
       "\n",
       "    .dataframe tbody tr th {\n",
       "        vertical-align: top;\n",
       "    }\n",
       "\n",
       "    .dataframe thead th {\n",
       "        text-align: right;\n",
       "    }\n",
       "</style>\n",
       "<table border=\"1\" class=\"dataframe\">\n",
       "  <thead>\n",
       "    <tr style=\"text-align: right;\">\n",
       "      <th></th>\n",
       "      <th>track</th>\n",
       "      <th>artist</th>\n",
       "      <th>uri</th>\n",
       "      <th>danceability</th>\n",
       "      <th>energy</th>\n",
       "      <th>key</th>\n",
       "      <th>loudness</th>\n",
       "      <th>mode</th>\n",
       "      <th>speechiness</th>\n",
       "      <th>acousticness</th>\n",
       "      <th>instrumentalness</th>\n",
       "      <th>liveness</th>\n",
       "      <th>valence</th>\n",
       "      <th>tempo</th>\n",
       "      <th>duration_ms</th>\n",
       "      <th>time_signature</th>\n",
       "      <th>chorus_hit</th>\n",
       "      <th>sections</th>\n",
       "      <th>target</th>\n",
       "    </tr>\n",
       "  </thead>\n",
       "  <tbody>\n",
       "    <tr>\n",
       "      <th>0</th>\n",
       "      <td>Wild Things</td>\n",
       "      <td>Alessia Cara</td>\n",
       "      <td>spotify:track:2ZyuwVvV6Z3XJaXIFbspeE</td>\n",
       "      <td>0.741</td>\n",
       "      <td>0.626</td>\n",
       "      <td>1</td>\n",
       "      <td>-4.826</td>\n",
       "      <td>0</td>\n",
       "      <td>0.0886</td>\n",
       "      <td>0.02000</td>\n",
       "      <td>0.000</td>\n",
       "      <td>0.0828</td>\n",
       "      <td>0.706</td>\n",
       "      <td>108.029</td>\n",
       "      <td>188493</td>\n",
       "      <td>4</td>\n",
       "      <td>41.18681</td>\n",
       "      <td>10</td>\n",
       "      <td>1</td>\n",
       "    </tr>\n",
       "    <tr>\n",
       "      <th>1</th>\n",
       "      <td>Surfboard</td>\n",
       "      <td>Esquivel!</td>\n",
       "      <td>spotify:track:61APOtq25SCMuK0V5w2Kgp</td>\n",
       "      <td>0.447</td>\n",
       "      <td>0.247</td>\n",
       "      <td>5</td>\n",
       "      <td>-14.661</td>\n",
       "      <td>0</td>\n",
       "      <td>0.0346</td>\n",
       "      <td>0.87100</td>\n",
       "      <td>0.814</td>\n",
       "      <td>0.0946</td>\n",
       "      <td>0.250</td>\n",
       "      <td>155.489</td>\n",
       "      <td>176880</td>\n",
       "      <td>3</td>\n",
       "      <td>33.18083</td>\n",
       "      <td>9</td>\n",
       "      <td>0</td>\n",
       "    </tr>\n",
       "    <tr>\n",
       "      <th>2</th>\n",
       "      <td>Love Someone</td>\n",
       "      <td>Lukas Graham</td>\n",
       "      <td>spotify:track:2JqnpexlO9dmvjUMCaLCLJ</td>\n",
       "      <td>0.550</td>\n",
       "      <td>0.415</td>\n",
       "      <td>9</td>\n",
       "      <td>-6.557</td>\n",
       "      <td>0</td>\n",
       "      <td>0.0520</td>\n",
       "      <td>0.16100</td>\n",
       "      <td>0.000</td>\n",
       "      <td>0.1080</td>\n",
       "      <td>0.274</td>\n",
       "      <td>172.065</td>\n",
       "      <td>205463</td>\n",
       "      <td>4</td>\n",
       "      <td>44.89147</td>\n",
       "      <td>9</td>\n",
       "      <td>1</td>\n",
       "    </tr>\n",
       "    <tr>\n",
       "      <th>3</th>\n",
       "      <td>Music To My Ears (feat. Tory Lanez)</td>\n",
       "      <td>Keys N Krates</td>\n",
       "      <td>spotify:track:0cjfLhk8WJ3etPTCseKXtk</td>\n",
       "      <td>0.502</td>\n",
       "      <td>0.648</td>\n",
       "      <td>0</td>\n",
       "      <td>-5.698</td>\n",
       "      <td>0</td>\n",
       "      <td>0.0527</td>\n",
       "      <td>0.00513</td>\n",
       "      <td>0.000</td>\n",
       "      <td>0.2040</td>\n",
       "      <td>0.291</td>\n",
       "      <td>91.837</td>\n",
       "      <td>193043</td>\n",
       "      <td>4</td>\n",
       "      <td>29.52521</td>\n",
       "      <td>7</td>\n",
       "      <td>0</td>\n",
       "    </tr>\n",
       "    <tr>\n",
       "      <th>4</th>\n",
       "      <td>Juju On That Beat (TZ Anthem)</td>\n",
       "      <td>Zay Hilfigerrr &amp; Zayion McCall</td>\n",
       "      <td>spotify:track:1lItf5ZXJc1by9SbPeljFd</td>\n",
       "      <td>0.807</td>\n",
       "      <td>0.887</td>\n",
       "      <td>1</td>\n",
       "      <td>-3.892</td>\n",
       "      <td>1</td>\n",
       "      <td>0.2750</td>\n",
       "      <td>0.00381</td>\n",
       "      <td>0.000</td>\n",
       "      <td>0.3910</td>\n",
       "      <td>0.780</td>\n",
       "      <td>160.517</td>\n",
       "      <td>144244</td>\n",
       "      <td>4</td>\n",
       "      <td>24.99199</td>\n",
       "      <td>8</td>\n",
       "      <td>1</td>\n",
       "    </tr>\n",
       "  </tbody>\n",
       "</table>\n",
       "</div>"
      ],
      "text/plain": [
       "                                 track                          artist  \\\n",
       "0                          Wild Things                    Alessia Cara   \n",
       "1                            Surfboard                       Esquivel!   \n",
       "2                         Love Someone                    Lukas Graham   \n",
       "3  Music To My Ears (feat. Tory Lanez)                   Keys N Krates   \n",
       "4        Juju On That Beat (TZ Anthem)  Zay Hilfigerrr & Zayion McCall   \n",
       "\n",
       "                                    uri  danceability  energy  key  loudness  \\\n",
       "0  spotify:track:2ZyuwVvV6Z3XJaXIFbspeE         0.741   0.626    1    -4.826   \n",
       "1  spotify:track:61APOtq25SCMuK0V5w2Kgp         0.447   0.247    5   -14.661   \n",
       "2  spotify:track:2JqnpexlO9dmvjUMCaLCLJ         0.550   0.415    9    -6.557   \n",
       "3  spotify:track:0cjfLhk8WJ3etPTCseKXtk         0.502   0.648    0    -5.698   \n",
       "4  spotify:track:1lItf5ZXJc1by9SbPeljFd         0.807   0.887    1    -3.892   \n",
       "\n",
       "   mode  speechiness  acousticness  instrumentalness  liveness  valence  \\\n",
       "0     0       0.0886       0.02000             0.000    0.0828    0.706   \n",
       "1     0       0.0346       0.87100             0.814    0.0946    0.250   \n",
       "2     0       0.0520       0.16100             0.000    0.1080    0.274   \n",
       "3     0       0.0527       0.00513             0.000    0.2040    0.291   \n",
       "4     1       0.2750       0.00381             0.000    0.3910    0.780   \n",
       "\n",
       "     tempo  duration_ms  time_signature  chorus_hit  sections  target  \n",
       "0  108.029       188493               4    41.18681        10       1  \n",
       "1  155.489       176880               3    33.18083         9       0  \n",
       "2  172.065       205463               4    44.89147         9       1  \n",
       "3   91.837       193043               4    29.52521         7       0  \n",
       "4  160.517       144244               4    24.99199         8       1  "
      ]
     },
     "execution_count": 2,
     "metadata": {},
     "output_type": "execute_result"
    }
   ],
   "source": [
    "data = pd.read_csv('data/dataset-of-10s.csv')\n",
    "data.head()"
   ]
  },
  {
   "cell_type": "code",
   "execution_count": 3,
   "metadata": {},
   "outputs": [
    {
     "data": {
      "text/plain": [
       "track               0\n",
       "artist              0\n",
       "uri                 0\n",
       "danceability        0\n",
       "energy              0\n",
       "key                 0\n",
       "loudness            0\n",
       "mode                0\n",
       "speechiness         0\n",
       "acousticness        0\n",
       "instrumentalness    0\n",
       "liveness            0\n",
       "valence             0\n",
       "tempo               0\n",
       "duration_ms         0\n",
       "time_signature      0\n",
       "chorus_hit          0\n",
       "sections            0\n",
       "target              0\n",
       "dtype: int64"
      ]
     },
     "execution_count": 3,
     "metadata": {},
     "output_type": "execute_result"
    }
   ],
   "source": [
    "data.isna().sum()"
   ]
  },
  {
   "cell_type": "code",
   "execution_count": 4,
   "metadata": {},
   "outputs": [
    {
     "data": {
      "text/html": [
       "<div>\n",
       "<style scoped>\n",
       "    .dataframe tbody tr th:only-of-type {\n",
       "        vertical-align: middle;\n",
       "    }\n",
       "\n",
       "    .dataframe tbody tr th {\n",
       "        vertical-align: top;\n",
       "    }\n",
       "\n",
       "    .dataframe thead th {\n",
       "        text-align: right;\n",
       "    }\n",
       "</style>\n",
       "<table border=\"1\" class=\"dataframe\">\n",
       "  <thead>\n",
       "    <tr style=\"text-align: right;\">\n",
       "      <th></th>\n",
       "      <th>danceability</th>\n",
       "      <th>energy</th>\n",
       "      <th>key</th>\n",
       "      <th>loudness</th>\n",
       "      <th>mode</th>\n",
       "      <th>speechiness</th>\n",
       "      <th>acousticness</th>\n",
       "      <th>instrumentalness</th>\n",
       "      <th>liveness</th>\n",
       "      <th>valence</th>\n",
       "      <th>tempo</th>\n",
       "      <th>duration_ms</th>\n",
       "      <th>time_signature</th>\n",
       "      <th>chorus_hit</th>\n",
       "      <th>sections</th>\n",
       "      <th>target</th>\n",
       "    </tr>\n",
       "  </thead>\n",
       "  <tbody>\n",
       "    <tr>\n",
       "      <th>count</th>\n",
       "      <td>6398.000000</td>\n",
       "      <td>6398.000000</td>\n",
       "      <td>6398.000000</td>\n",
       "      <td>6398.000000</td>\n",
       "      <td>6398.000000</td>\n",
       "      <td>6398.000000</td>\n",
       "      <td>6398.000000</td>\n",
       "      <td>6398.000000</td>\n",
       "      <td>6398.000000</td>\n",
       "      <td>6398.000000</td>\n",
       "      <td>6398.000000</td>\n",
       "      <td>6.398000e+03</td>\n",
       "      <td>6398.000000</td>\n",
       "      <td>6398.000000</td>\n",
       "      <td>6398.000000</td>\n",
       "      <td>6398.000000</td>\n",
       "    </tr>\n",
       "    <tr>\n",
       "      <th>mean</th>\n",
       "      <td>0.568163</td>\n",
       "      <td>0.667756</td>\n",
       "      <td>5.283526</td>\n",
       "      <td>-7.589796</td>\n",
       "      <td>0.645514</td>\n",
       "      <td>0.098018</td>\n",
       "      <td>0.216928</td>\n",
       "      <td>0.165293</td>\n",
       "      <td>0.196700</td>\n",
       "      <td>0.443734</td>\n",
       "      <td>122.353871</td>\n",
       "      <td>2.367042e+05</td>\n",
       "      <td>3.930916</td>\n",
       "      <td>41.028399</td>\n",
       "      <td>10.316505</td>\n",
       "      <td>0.500000</td>\n",
       "    </tr>\n",
       "    <tr>\n",
       "      <th>std</th>\n",
       "      <td>0.191103</td>\n",
       "      <td>0.240721</td>\n",
       "      <td>3.606216</td>\n",
       "      <td>5.234592</td>\n",
       "      <td>0.478395</td>\n",
       "      <td>0.097224</td>\n",
       "      <td>0.296835</td>\n",
       "      <td>0.318736</td>\n",
       "      <td>0.166148</td>\n",
       "      <td>0.245776</td>\n",
       "      <td>29.847389</td>\n",
       "      <td>8.563698e+04</td>\n",
       "      <td>0.377469</td>\n",
       "      <td>19.568827</td>\n",
       "      <td>3.776011</td>\n",
       "      <td>0.500039</td>\n",
       "    </tr>\n",
       "    <tr>\n",
       "      <th>min</th>\n",
       "      <td>0.062200</td>\n",
       "      <td>0.000251</td>\n",
       "      <td>0.000000</td>\n",
       "      <td>-46.655000</td>\n",
       "      <td>0.000000</td>\n",
       "      <td>0.022500</td>\n",
       "      <td>0.000000</td>\n",
       "      <td>0.000000</td>\n",
       "      <td>0.016700</td>\n",
       "      <td>0.000000</td>\n",
       "      <td>39.369000</td>\n",
       "      <td>2.985300e+04</td>\n",
       "      <td>0.000000</td>\n",
       "      <td>0.000000</td>\n",
       "      <td>2.000000</td>\n",
       "      <td>0.000000</td>\n",
       "    </tr>\n",
       "    <tr>\n",
       "      <th>25%</th>\n",
       "      <td>0.447000</td>\n",
       "      <td>0.533000</td>\n",
       "      <td>2.000000</td>\n",
       "      <td>-8.425000</td>\n",
       "      <td>0.000000</td>\n",
       "      <td>0.038825</td>\n",
       "      <td>0.008533</td>\n",
       "      <td>0.000000</td>\n",
       "      <td>0.096800</td>\n",
       "      <td>0.240000</td>\n",
       "      <td>98.091250</td>\n",
       "      <td>1.932068e+05</td>\n",
       "      <td>4.000000</td>\n",
       "      <td>28.059135</td>\n",
       "      <td>8.000000</td>\n",
       "      <td>0.000000</td>\n",
       "    </tr>\n",
       "    <tr>\n",
       "      <th>50%</th>\n",
       "      <td>0.588000</td>\n",
       "      <td>0.712500</td>\n",
       "      <td>5.000000</td>\n",
       "      <td>-6.096500</td>\n",
       "      <td>1.000000</td>\n",
       "      <td>0.057200</td>\n",
       "      <td>0.067050</td>\n",
       "      <td>0.000017</td>\n",
       "      <td>0.126000</td>\n",
       "      <td>0.434000</td>\n",
       "      <td>121.070000</td>\n",
       "      <td>2.212465e+05</td>\n",
       "      <td>4.000000</td>\n",
       "      <td>36.265365</td>\n",
       "      <td>10.000000</td>\n",
       "      <td>0.500000</td>\n",
       "    </tr>\n",
       "    <tr>\n",
       "      <th>75%</th>\n",
       "      <td>0.710000</td>\n",
       "      <td>0.857000</td>\n",
       "      <td>8.000000</td>\n",
       "      <td>-4.601250</td>\n",
       "      <td>1.000000</td>\n",
       "      <td>0.112000</td>\n",
       "      <td>0.311000</td>\n",
       "      <td>0.057650</td>\n",
       "      <td>0.249000</td>\n",
       "      <td>0.628000</td>\n",
       "      <td>141.085000</td>\n",
       "      <td>2.593165e+05</td>\n",
       "      <td>4.000000</td>\n",
       "      <td>48.292538</td>\n",
       "      <td>12.000000</td>\n",
       "      <td>1.000000</td>\n",
       "    </tr>\n",
       "    <tr>\n",
       "      <th>max</th>\n",
       "      <td>0.981000</td>\n",
       "      <td>0.999000</td>\n",
       "      <td>11.000000</td>\n",
       "      <td>-0.149000</td>\n",
       "      <td>1.000000</td>\n",
       "      <td>0.956000</td>\n",
       "      <td>0.996000</td>\n",
       "      <td>0.995000</td>\n",
       "      <td>0.982000</td>\n",
       "      <td>0.976000</td>\n",
       "      <td>210.977000</td>\n",
       "      <td>1.734201e+06</td>\n",
       "      <td>5.000000</td>\n",
       "      <td>213.154990</td>\n",
       "      <td>88.000000</td>\n",
       "      <td>1.000000</td>\n",
       "    </tr>\n",
       "  </tbody>\n",
       "</table>\n",
       "</div>"
      ],
      "text/plain": [
       "       danceability       energy          key     loudness         mode  \\\n",
       "count   6398.000000  6398.000000  6398.000000  6398.000000  6398.000000   \n",
       "mean       0.568163     0.667756     5.283526    -7.589796     0.645514   \n",
       "std        0.191103     0.240721     3.606216     5.234592     0.478395   \n",
       "min        0.062200     0.000251     0.000000   -46.655000     0.000000   \n",
       "25%        0.447000     0.533000     2.000000    -8.425000     0.000000   \n",
       "50%        0.588000     0.712500     5.000000    -6.096500     1.000000   \n",
       "75%        0.710000     0.857000     8.000000    -4.601250     1.000000   \n",
       "max        0.981000     0.999000    11.000000    -0.149000     1.000000   \n",
       "\n",
       "       speechiness  acousticness  instrumentalness     liveness      valence  \\\n",
       "count  6398.000000   6398.000000       6398.000000  6398.000000  6398.000000   \n",
       "mean      0.098018      0.216928          0.165293     0.196700     0.443734   \n",
       "std       0.097224      0.296835          0.318736     0.166148     0.245776   \n",
       "min       0.022500      0.000000          0.000000     0.016700     0.000000   \n",
       "25%       0.038825      0.008533          0.000000     0.096800     0.240000   \n",
       "50%       0.057200      0.067050          0.000017     0.126000     0.434000   \n",
       "75%       0.112000      0.311000          0.057650     0.249000     0.628000   \n",
       "max       0.956000      0.996000          0.995000     0.982000     0.976000   \n",
       "\n",
       "             tempo   duration_ms  time_signature   chorus_hit     sections  \\\n",
       "count  6398.000000  6.398000e+03     6398.000000  6398.000000  6398.000000   \n",
       "mean    122.353871  2.367042e+05        3.930916    41.028399    10.316505   \n",
       "std      29.847389  8.563698e+04        0.377469    19.568827     3.776011   \n",
       "min      39.369000  2.985300e+04        0.000000     0.000000     2.000000   \n",
       "25%      98.091250  1.932068e+05        4.000000    28.059135     8.000000   \n",
       "50%     121.070000  2.212465e+05        4.000000    36.265365    10.000000   \n",
       "75%     141.085000  2.593165e+05        4.000000    48.292538    12.000000   \n",
       "max     210.977000  1.734201e+06        5.000000   213.154990    88.000000   \n",
       "\n",
       "            target  \n",
       "count  6398.000000  \n",
       "mean      0.500000  \n",
       "std       0.500039  \n",
       "min       0.000000  \n",
       "25%       0.000000  \n",
       "50%       0.500000  \n",
       "75%       1.000000  \n",
       "max       1.000000  "
      ]
     },
     "execution_count": 4,
     "metadata": {},
     "output_type": "execute_result"
    }
   ],
   "source": [
    "data.describe()"
   ]
  },
  {
   "cell_type": "markdown",
   "metadata": {},
   "source": [
    "The different features of the data have very different values and will need to be normalized during the data preparation step."
   ]
  },
  {
   "cell_type": "code",
   "execution_count": 5,
   "metadata": {},
   "outputs": [
    {
     "data": {
      "text/plain": [
       "1    3199\n",
       "0    3199\n",
       "Name: target, dtype: int64"
      ]
     },
     "execution_count": 5,
     "metadata": {},
     "output_type": "execute_result"
    }
   ],
   "source": [
    "data['target'].value_counts()"
   ]
  },
  {
   "cell_type": "markdown",
   "metadata": {},
   "source": [
    "To generally get a better idea of which features of the data might be related to the target, I look at the Pearson correlations."
   ]
  },
  {
   "cell_type": "code",
   "execution_count": 6,
   "metadata": {},
   "outputs": [
    {
     "data": {
      "text/html": [
       "<div>\n",
       "<style scoped>\n",
       "    .dataframe tbody tr th:only-of-type {\n",
       "        vertical-align: middle;\n",
       "    }\n",
       "\n",
       "    .dataframe tbody tr th {\n",
       "        vertical-align: top;\n",
       "    }\n",
       "\n",
       "    .dataframe thead th {\n",
       "        text-align: right;\n",
       "    }\n",
       "</style>\n",
       "<table border=\"1\" class=\"dataframe\">\n",
       "  <thead>\n",
       "    <tr style=\"text-align: right;\">\n",
       "      <th></th>\n",
       "      <th>danceability</th>\n",
       "      <th>energy</th>\n",
       "      <th>key</th>\n",
       "      <th>loudness</th>\n",
       "      <th>mode</th>\n",
       "      <th>speechiness</th>\n",
       "      <th>acousticness</th>\n",
       "      <th>instrumentalness</th>\n",
       "      <th>liveness</th>\n",
       "      <th>valence</th>\n",
       "      <th>tempo</th>\n",
       "      <th>duration_ms</th>\n",
       "      <th>time_signature</th>\n",
       "      <th>chorus_hit</th>\n",
       "      <th>sections</th>\n",
       "      <th>target</th>\n",
       "    </tr>\n",
       "  </thead>\n",
       "  <tbody>\n",
       "    <tr>\n",
       "      <th>danceability</th>\n",
       "      <td>1.000000</td>\n",
       "      <td>0.069645</td>\n",
       "      <td>0.012429</td>\n",
       "      <td>0.300576</td>\n",
       "      <td>-0.057280</td>\n",
       "      <td>0.200090</td>\n",
       "      <td>-0.206865</td>\n",
       "      <td>-0.371334</td>\n",
       "      <td>-0.107581</td>\n",
       "      <td>0.494136</td>\n",
       "      <td>-0.056197</td>\n",
       "      <td>-0.224803</td>\n",
       "      <td>0.178671</td>\n",
       "      <td>-0.078254</td>\n",
       "      <td>-0.162908</td>\n",
       "      <td>0.384486</td>\n",
       "    </tr>\n",
       "    <tr>\n",
       "      <th>energy</th>\n",
       "      <td>0.069645</td>\n",
       "      <td>1.000000</td>\n",
       "      <td>0.028703</td>\n",
       "      <td>0.774536</td>\n",
       "      <td>0.004929</td>\n",
       "      <td>0.119194</td>\n",
       "      <td>-0.734853</td>\n",
       "      <td>-0.288263</td>\n",
       "      <td>0.231393</td>\n",
       "      <td>0.281031</td>\n",
       "      <td>0.216886</td>\n",
       "      <td>-0.009228</td>\n",
       "      <td>0.175984</td>\n",
       "      <td>-0.001224</td>\n",
       "      <td>-0.074466</td>\n",
       "      <td>0.060701</td>\n",
       "    </tr>\n",
       "    <tr>\n",
       "      <th>key</th>\n",
       "      <td>0.012429</td>\n",
       "      <td>0.028703</td>\n",
       "      <td>1.000000</td>\n",
       "      <td>0.010824</td>\n",
       "      <td>-0.146063</td>\n",
       "      <td>0.022796</td>\n",
       "      <td>-0.021271</td>\n",
       "      <td>-0.013049</td>\n",
       "      <td>0.021785</td>\n",
       "      <td>0.019572</td>\n",
       "      <td>0.009259</td>\n",
       "      <td>0.011028</td>\n",
       "      <td>-0.008462</td>\n",
       "      <td>0.001960</td>\n",
       "      <td>0.002512</td>\n",
       "      <td>0.005548</td>\n",
       "    </tr>\n",
       "    <tr>\n",
       "      <th>loudness</th>\n",
       "      <td>0.300576</td>\n",
       "      <td>0.774536</td>\n",
       "      <td>0.010824</td>\n",
       "      <td>1.000000</td>\n",
       "      <td>0.021064</td>\n",
       "      <td>0.122028</td>\n",
       "      <td>-0.648717</td>\n",
       "      <td>-0.533671</td>\n",
       "      <td>0.126807</td>\n",
       "      <td>0.324985</td>\n",
       "      <td>0.194467</td>\n",
       "      <td>-0.094598</td>\n",
       "      <td>0.207436</td>\n",
       "      <td>-0.042665</td>\n",
       "      <td>-0.111469</td>\n",
       "      <td>0.327471</td>\n",
       "    </tr>\n",
       "    <tr>\n",
       "      <th>mode</th>\n",
       "      <td>-0.057280</td>\n",
       "      <td>0.004929</td>\n",
       "      <td>-0.146063</td>\n",
       "      <td>0.021064</td>\n",
       "      <td>1.000000</td>\n",
       "      <td>-0.090107</td>\n",
       "      <td>0.011424</td>\n",
       "      <td>-0.037132</td>\n",
       "      <td>-0.011590</td>\n",
       "      <td>0.018198</td>\n",
       "      <td>0.032180</td>\n",
       "      <td>-0.042125</td>\n",
       "      <td>0.014125</td>\n",
       "      <td>-0.007967</td>\n",
       "      <td>-0.030129</td>\n",
       "      <td>0.032021</td>\n",
       "    </tr>\n",
       "    <tr>\n",
       "      <th>speechiness</th>\n",
       "      <td>0.200090</td>\n",
       "      <td>0.119194</td>\n",
       "      <td>0.022796</td>\n",
       "      <td>0.122028</td>\n",
       "      <td>-0.090107</td>\n",
       "      <td>1.000000</td>\n",
       "      <td>-0.134226</td>\n",
       "      <td>-0.148649</td>\n",
       "      <td>0.121075</td>\n",
       "      <td>0.053836</td>\n",
       "      <td>0.117813</td>\n",
       "      <td>-0.071826</td>\n",
       "      <td>0.063656</td>\n",
       "      <td>0.001857</td>\n",
       "      <td>-0.035077</td>\n",
       "      <td>0.097783</td>\n",
       "    </tr>\n",
       "    <tr>\n",
       "      <th>acousticness</th>\n",
       "      <td>-0.206865</td>\n",
       "      <td>-0.734853</td>\n",
       "      <td>-0.021271</td>\n",
       "      <td>-0.648717</td>\n",
       "      <td>0.011424</td>\n",
       "      <td>-0.134226</td>\n",
       "      <td>1.000000</td>\n",
       "      <td>0.315563</td>\n",
       "      <td>-0.149926</td>\n",
       "      <td>-0.166253</td>\n",
       "      <td>-0.182050</td>\n",
       "      <td>-0.039567</td>\n",
       "      <td>-0.191607</td>\n",
       "      <td>0.001477</td>\n",
       "      <td>0.024583</td>\n",
       "      <td>-0.184479</td>\n",
       "    </tr>\n",
       "    <tr>\n",
       "      <th>instrumentalness</th>\n",
       "      <td>-0.371334</td>\n",
       "      <td>-0.288263</td>\n",
       "      <td>-0.013049</td>\n",
       "      <td>-0.533671</td>\n",
       "      <td>-0.037132</td>\n",
       "      <td>-0.148649</td>\n",
       "      <td>0.315563</td>\n",
       "      <td>1.000000</td>\n",
       "      <td>-0.049879</td>\n",
       "      <td>-0.334662</td>\n",
       "      <td>-0.083487</td>\n",
       "      <td>0.183696</td>\n",
       "      <td>-0.133629</td>\n",
       "      <td>0.093847</td>\n",
       "      <td>0.114927</td>\n",
       "      <td>-0.499624</td>\n",
       "    </tr>\n",
       "    <tr>\n",
       "      <th>liveness</th>\n",
       "      <td>-0.107581</td>\n",
       "      <td>0.231393</td>\n",
       "      <td>0.021785</td>\n",
       "      <td>0.126807</td>\n",
       "      <td>-0.011590</td>\n",
       "      <td>0.121075</td>\n",
       "      <td>-0.149926</td>\n",
       "      <td>-0.049879</td>\n",
       "      <td>1.000000</td>\n",
       "      <td>-0.016562</td>\n",
       "      <td>0.038555</td>\n",
       "      <td>0.040219</td>\n",
       "      <td>0.026185</td>\n",
       "      <td>0.043099</td>\n",
       "      <td>0.008406</td>\n",
       "      <td>-0.062612</td>\n",
       "    </tr>\n",
       "    <tr>\n",
       "      <th>valence</th>\n",
       "      <td>0.494136</td>\n",
       "      <td>0.281031</td>\n",
       "      <td>0.019572</td>\n",
       "      <td>0.324985</td>\n",
       "      <td>0.018198</td>\n",
       "      <td>0.053836</td>\n",
       "      <td>-0.166253</td>\n",
       "      <td>-0.334662</td>\n",
       "      <td>-0.016562</td>\n",
       "      <td>1.000000</td>\n",
       "      <td>0.053572</td>\n",
       "      <td>-0.248445</td>\n",
       "      <td>0.117049</td>\n",
       "      <td>-0.103274</td>\n",
       "      <td>-0.168675</td>\n",
       "      <td>0.203774</td>\n",
       "    </tr>\n",
       "    <tr>\n",
       "      <th>tempo</th>\n",
       "      <td>-0.056197</td>\n",
       "      <td>0.216886</td>\n",
       "      <td>0.009259</td>\n",
       "      <td>0.194467</td>\n",
       "      <td>0.032180</td>\n",
       "      <td>0.117813</td>\n",
       "      <td>-0.182050</td>\n",
       "      <td>-0.083487</td>\n",
       "      <td>0.038555</td>\n",
       "      <td>0.053572</td>\n",
       "      <td>1.000000</td>\n",
       "      <td>-0.019830</td>\n",
       "      <td>0.025892</td>\n",
       "      <td>-0.060944</td>\n",
       "      <td>0.048688</td>\n",
       "      <td>0.039226</td>\n",
       "    </tr>\n",
       "    <tr>\n",
       "      <th>duration_ms</th>\n",
       "      <td>-0.224803</td>\n",
       "      <td>-0.009228</td>\n",
       "      <td>0.011028</td>\n",
       "      <td>-0.094598</td>\n",
       "      <td>-0.042125</td>\n",
       "      <td>-0.071826</td>\n",
       "      <td>-0.039567</td>\n",
       "      <td>0.183696</td>\n",
       "      <td>0.040219</td>\n",
       "      <td>-0.248445</td>\n",
       "      <td>-0.019830</td>\n",
       "      <td>1.000000</td>\n",
       "      <td>0.000599</td>\n",
       "      <td>0.096040</td>\n",
       "      <td>0.810253</td>\n",
       "      <td>-0.189203</td>\n",
       "    </tr>\n",
       "    <tr>\n",
       "      <th>time_signature</th>\n",
       "      <td>0.178671</td>\n",
       "      <td>0.175984</td>\n",
       "      <td>-0.008462</td>\n",
       "      <td>0.207436</td>\n",
       "      <td>0.014125</td>\n",
       "      <td>0.063656</td>\n",
       "      <td>-0.191607</td>\n",
       "      <td>-0.133629</td>\n",
       "      <td>0.026185</td>\n",
       "      <td>0.117049</td>\n",
       "      <td>0.025892</td>\n",
       "      <td>0.000599</td>\n",
       "      <td>1.000000</td>\n",
       "      <td>-0.031763</td>\n",
       "      <td>-0.012843</td>\n",
       "      <td>0.127544</td>\n",
       "    </tr>\n",
       "    <tr>\n",
       "      <th>chorus_hit</th>\n",
       "      <td>-0.078254</td>\n",
       "      <td>-0.001224</td>\n",
       "      <td>0.001960</td>\n",
       "      <td>-0.042665</td>\n",
       "      <td>-0.007967</td>\n",
       "      <td>0.001857</td>\n",
       "      <td>0.001477</td>\n",
       "      <td>0.093847</td>\n",
       "      <td>0.043099</td>\n",
       "      <td>-0.103274</td>\n",
       "      <td>-0.060944</td>\n",
       "      <td>0.096040</td>\n",
       "      <td>-0.031763</td>\n",
       "      <td>1.000000</td>\n",
       "      <td>-0.158206</td>\n",
       "      <td>-0.085587</td>\n",
       "    </tr>\n",
       "    <tr>\n",
       "      <th>sections</th>\n",
       "      <td>-0.162908</td>\n",
       "      <td>-0.074466</td>\n",
       "      <td>0.002512</td>\n",
       "      <td>-0.111469</td>\n",
       "      <td>-0.030129</td>\n",
       "      <td>-0.035077</td>\n",
       "      <td>0.024583</td>\n",
       "      <td>0.114927</td>\n",
       "      <td>0.008406</td>\n",
       "      <td>-0.168675</td>\n",
       "      <td>0.048688</td>\n",
       "      <td>0.810253</td>\n",
       "      <td>-0.012843</td>\n",
       "      <td>-0.158206</td>\n",
       "      <td>1.000000</td>\n",
       "      <td>-0.113383</td>\n",
       "    </tr>\n",
       "    <tr>\n",
       "      <th>target</th>\n",
       "      <td>0.384486</td>\n",
       "      <td>0.060701</td>\n",
       "      <td>0.005548</td>\n",
       "      <td>0.327471</td>\n",
       "      <td>0.032021</td>\n",
       "      <td>0.097783</td>\n",
       "      <td>-0.184479</td>\n",
       "      <td>-0.499624</td>\n",
       "      <td>-0.062612</td>\n",
       "      <td>0.203774</td>\n",
       "      <td>0.039226</td>\n",
       "      <td>-0.189203</td>\n",
       "      <td>0.127544</td>\n",
       "      <td>-0.085587</td>\n",
       "      <td>-0.113383</td>\n",
       "      <td>1.000000</td>\n",
       "    </tr>\n",
       "  </tbody>\n",
       "</table>\n",
       "</div>"
      ],
      "text/plain": [
       "                  danceability    energy       key  loudness      mode  \\\n",
       "danceability          1.000000  0.069645  0.012429  0.300576 -0.057280   \n",
       "energy                0.069645  1.000000  0.028703  0.774536  0.004929   \n",
       "key                   0.012429  0.028703  1.000000  0.010824 -0.146063   \n",
       "loudness              0.300576  0.774536  0.010824  1.000000  0.021064   \n",
       "mode                 -0.057280  0.004929 -0.146063  0.021064  1.000000   \n",
       "speechiness           0.200090  0.119194  0.022796  0.122028 -0.090107   \n",
       "acousticness         -0.206865 -0.734853 -0.021271 -0.648717  0.011424   \n",
       "instrumentalness     -0.371334 -0.288263 -0.013049 -0.533671 -0.037132   \n",
       "liveness             -0.107581  0.231393  0.021785  0.126807 -0.011590   \n",
       "valence               0.494136  0.281031  0.019572  0.324985  0.018198   \n",
       "tempo                -0.056197  0.216886  0.009259  0.194467  0.032180   \n",
       "duration_ms          -0.224803 -0.009228  0.011028 -0.094598 -0.042125   \n",
       "time_signature        0.178671  0.175984 -0.008462  0.207436  0.014125   \n",
       "chorus_hit           -0.078254 -0.001224  0.001960 -0.042665 -0.007967   \n",
       "sections             -0.162908 -0.074466  0.002512 -0.111469 -0.030129   \n",
       "target                0.384486  0.060701  0.005548  0.327471  0.032021   \n",
       "\n",
       "                  speechiness  acousticness  instrumentalness  liveness  \\\n",
       "danceability         0.200090     -0.206865         -0.371334 -0.107581   \n",
       "energy               0.119194     -0.734853         -0.288263  0.231393   \n",
       "key                  0.022796     -0.021271         -0.013049  0.021785   \n",
       "loudness             0.122028     -0.648717         -0.533671  0.126807   \n",
       "mode                -0.090107      0.011424         -0.037132 -0.011590   \n",
       "speechiness          1.000000     -0.134226         -0.148649  0.121075   \n",
       "acousticness        -0.134226      1.000000          0.315563 -0.149926   \n",
       "instrumentalness    -0.148649      0.315563          1.000000 -0.049879   \n",
       "liveness             0.121075     -0.149926         -0.049879  1.000000   \n",
       "valence              0.053836     -0.166253         -0.334662 -0.016562   \n",
       "tempo                0.117813     -0.182050         -0.083487  0.038555   \n",
       "duration_ms         -0.071826     -0.039567          0.183696  0.040219   \n",
       "time_signature       0.063656     -0.191607         -0.133629  0.026185   \n",
       "chorus_hit           0.001857      0.001477          0.093847  0.043099   \n",
       "sections            -0.035077      0.024583          0.114927  0.008406   \n",
       "target               0.097783     -0.184479         -0.499624 -0.062612   \n",
       "\n",
       "                   valence     tempo  duration_ms  time_signature  chorus_hit  \\\n",
       "danceability      0.494136 -0.056197    -0.224803        0.178671   -0.078254   \n",
       "energy            0.281031  0.216886    -0.009228        0.175984   -0.001224   \n",
       "key               0.019572  0.009259     0.011028       -0.008462    0.001960   \n",
       "loudness          0.324985  0.194467    -0.094598        0.207436   -0.042665   \n",
       "mode              0.018198  0.032180    -0.042125        0.014125   -0.007967   \n",
       "speechiness       0.053836  0.117813    -0.071826        0.063656    0.001857   \n",
       "acousticness     -0.166253 -0.182050    -0.039567       -0.191607    0.001477   \n",
       "instrumentalness -0.334662 -0.083487     0.183696       -0.133629    0.093847   \n",
       "liveness         -0.016562  0.038555     0.040219        0.026185    0.043099   \n",
       "valence           1.000000  0.053572    -0.248445        0.117049   -0.103274   \n",
       "tempo             0.053572  1.000000    -0.019830        0.025892   -0.060944   \n",
       "duration_ms      -0.248445 -0.019830     1.000000        0.000599    0.096040   \n",
       "time_signature    0.117049  0.025892     0.000599        1.000000   -0.031763   \n",
       "chorus_hit       -0.103274 -0.060944     0.096040       -0.031763    1.000000   \n",
       "sections         -0.168675  0.048688     0.810253       -0.012843   -0.158206   \n",
       "target            0.203774  0.039226    -0.189203        0.127544   -0.085587   \n",
       "\n",
       "                  sections    target  \n",
       "danceability     -0.162908  0.384486  \n",
       "energy           -0.074466  0.060701  \n",
       "key               0.002512  0.005548  \n",
       "loudness         -0.111469  0.327471  \n",
       "mode             -0.030129  0.032021  \n",
       "speechiness      -0.035077  0.097783  \n",
       "acousticness      0.024583 -0.184479  \n",
       "instrumentalness  0.114927 -0.499624  \n",
       "liveness          0.008406 -0.062612  \n",
       "valence          -0.168675  0.203774  \n",
       "tempo             0.048688  0.039226  \n",
       "duration_ms       0.810253 -0.189203  \n",
       "time_signature   -0.012843  0.127544  \n",
       "chorus_hit       -0.158206 -0.085587  \n",
       "sections          1.000000 -0.113383  \n",
       "target           -0.113383  1.000000  "
      ]
     },
     "execution_count": 6,
     "metadata": {},
     "output_type": "execute_result"
    }
   ],
   "source": [
    "# correlation?\n",
    "data.corr()"
   ]
  },
  {
   "cell_type": "code",
   "execution_count": 7,
   "metadata": {},
   "outputs": [
    {
     "data": {
      "image/png": "[encoded data removed]",
      "text/plain": [
       "<Figure size 864x576 with 2 Axes>"
      ]
     },
     "metadata": {},
     "output_type": "display_data"
    }
   ],
   "source": [
    "sns.set(rc={'figure.figsize':(12,8)})\n",
    "sns.heatmap(data.corr(), annot=True);"
   ]
  },
  {
   "cell_type": "code",
   "execution_count": 8,
   "metadata": {},
   "outputs": [
    {
     "name": "stderr",
     "output_type": "stream",
     "text": [
      "<ipython-input-8-5b51a6c4189b>:4: DeprecationWarning: `np.bool` is a deprecated alias for the builtin `bool`. To silence this warning, use `bool` by itself. Doing this will not modify any behavior and is safe. If you specifically wanted the numpy scalar type, use `np.bool_` here.\n",
      "Deprecated in NumPy 1.20; for more details and guidance: https://numpy.org/devdocs/release/1.20.0-notes.html#deprecations\n",
      "  mask = np.triu(np.ones_like(corr, dtype=np.bool))\n"
     ]
    },
    {
     "data": {
      "image/png": "[encoded data removed]",
      "text/plain": [
       "<Figure size 792x648 with 2 Axes>"
      ]
     },
     "metadata": {},
     "output_type": "display_data"
    }
   ],
   "source": [
    "sns.set(style=\"white\")\n",
    "corr = data[['danceability', 'loudness', 'valence', 'time_signature', 'instrumentalness', 'target']].corr()\n",
    "\n",
    "mask = np.triu(np.ones_like(corr, dtype=np.bool))\n",
    "\n",
    "f, ax = plt.subplots(figsize=(11, 9))\n",
    "\n",
    "cmap = sns.diverging_palette(160,120,215, n=3, as_cmap=True)\n",
    "\n",
    "sns.heatmap(corr, mask=mask, cmap=cmap, vmax=.3, center=0,\n",
    "            square=True, linewidths=.5, cbar_kws={\"shrink\": .5}, annot=True)\n",
    "plt.show()"
   ]
  },
  {
   "cell_type": "markdown",
   "metadata": {},
   "source": [
    "Just by looking at this heatmap of the different features' correlations, we can see that the features that are most positively correlated with the target (whether or not the song is a hit) are danceability, loudness, valence, and time signature. Instrumentalness has a strong negative correlation with the target."
   ]
  },
  {
   "cell_type": "markdown",
   "metadata": {},
   "source": [
    "## Data Preparation"
   ]
  },
  {
   "cell_type": "markdown",
   "metadata": {},
   "source": [
    "To compare later models to, first a baseline model must be created. I am using a single decision tree for the baseline model. In order to do this, I begin by assigning the target variable to y and the other features to X,performing a train-test split to evaluate the model with, and then normalizing the training data."
   ]
  },
  {
   "cell_type": "code",
   "execution_count": 9,
   "metadata": {},
   "outputs": [
    {
     "data": {
      "text/html": [
       "<div>\n",
       "<style scoped>\n",
       "    .dataframe tbody tr th:only-of-type {\n",
       "        vertical-align: middle;\n",
       "    }\n",
       "\n",
       "    .dataframe tbody tr th {\n",
       "        vertical-align: top;\n",
       "    }\n",
       "\n",
       "    .dataframe thead th {\n",
       "        text-align: right;\n",
       "    }\n",
       "</style>\n",
       "<table border=\"1\" class=\"dataframe\">\n",
       "  <thead>\n",
       "    <tr style=\"text-align: right;\">\n",
       "      <th></th>\n",
       "      <th>danceability</th>\n",
       "      <th>energy</th>\n",
       "      <th>key</th>\n",
       "      <th>loudness</th>\n",
       "      <th>mode</th>\n",
       "      <th>speechiness</th>\n",
       "      <th>acousticness</th>\n",
       "      <th>instrumentalness</th>\n",
       "      <th>liveness</th>\n",
       "      <th>valence</th>\n",
       "      <th>tempo</th>\n",
       "      <th>duration_ms</th>\n",
       "      <th>time_signature</th>\n",
       "      <th>chorus_hit</th>\n",
       "      <th>sections</th>\n",
       "    </tr>\n",
       "  </thead>\n",
       "  <tbody>\n",
       "    <tr>\n",
       "      <th>0</th>\n",
       "      <td>0.741</td>\n",
       "      <td>0.626</td>\n",
       "      <td>1</td>\n",
       "      <td>-4.826</td>\n",
       "      <td>0</td>\n",
       "      <td>0.0886</td>\n",
       "      <td>0.02000</td>\n",
       "      <td>0.000</td>\n",
       "      <td>0.0828</td>\n",
       "      <td>0.706</td>\n",
       "      <td>108.029</td>\n",
       "      <td>188493</td>\n",
       "      <td>4</td>\n",
       "      <td>41.18681</td>\n",
       "      <td>10</td>\n",
       "    </tr>\n",
       "    <tr>\n",
       "      <th>1</th>\n",
       "      <td>0.447</td>\n",
       "      <td>0.247</td>\n",
       "      <td>5</td>\n",
       "      <td>-14.661</td>\n",
       "      <td>0</td>\n",
       "      <td>0.0346</td>\n",
       "      <td>0.87100</td>\n",
       "      <td>0.814</td>\n",
       "      <td>0.0946</td>\n",
       "      <td>0.250</td>\n",
       "      <td>155.489</td>\n",
       "      <td>176880</td>\n",
       "      <td>3</td>\n",
       "      <td>33.18083</td>\n",
       "      <td>9</td>\n",
       "    </tr>\n",
       "    <tr>\n",
       "      <th>2</th>\n",
       "      <td>0.550</td>\n",
       "      <td>0.415</td>\n",
       "      <td>9</td>\n",
       "      <td>-6.557</td>\n",
       "      <td>0</td>\n",
       "      <td>0.0520</td>\n",
       "      <td>0.16100</td>\n",
       "      <td>0.000</td>\n",
       "      <td>0.1080</td>\n",
       "      <td>0.274</td>\n",
       "      <td>172.065</td>\n",
       "      <td>205463</td>\n",
       "      <td>4</td>\n",
       "      <td>44.89147</td>\n",
       "      <td>9</td>\n",
       "    </tr>\n",
       "    <tr>\n",
       "      <th>3</th>\n",
       "      <td>0.502</td>\n",
       "      <td>0.648</td>\n",
       "      <td>0</td>\n",
       "      <td>-5.698</td>\n",
       "      <td>0</td>\n",
       "      <td>0.0527</td>\n",
       "      <td>0.00513</td>\n",
       "      <td>0.000</td>\n",
       "      <td>0.2040</td>\n",
       "      <td>0.291</td>\n",
       "      <td>91.837</td>\n",
       "      <td>193043</td>\n",
       "      <td>4</td>\n",
       "      <td>29.52521</td>\n",
       "      <td>7</td>\n",
       "    </tr>\n",
       "    <tr>\n",
       "      <th>4</th>\n",
       "      <td>0.807</td>\n",
       "      <td>0.887</td>\n",
       "      <td>1</td>\n",
       "      <td>-3.892</td>\n",
       "      <td>1</td>\n",
       "      <td>0.2750</td>\n",
       "      <td>0.00381</td>\n",
       "      <td>0.000</td>\n",
       "      <td>0.3910</td>\n",
       "      <td>0.780</td>\n",
       "      <td>160.517</td>\n",
       "      <td>144244</td>\n",
       "      <td>4</td>\n",
       "      <td>24.99199</td>\n",
       "      <td>8</td>\n",
       "    </tr>\n",
       "  </tbody>\n",
       "</table>\n",
       "</div>"
      ],
      "text/plain": [
       "   danceability  energy  key  loudness  mode  speechiness  acousticness  \\\n",
       "0         0.741   0.626    1    -4.826     0       0.0886       0.02000   \n",
       "1         0.447   0.247    5   -14.661     0       0.0346       0.87100   \n",
       "2         0.550   0.415    9    -6.557     0       0.0520       0.16100   \n",
       "3         0.502   0.648    0    -5.698     0       0.0527       0.00513   \n",
       "4         0.807   0.887    1    -3.892     1       0.2750       0.00381   \n",
       "\n",
       "   instrumentalness  liveness  valence    tempo  duration_ms  time_signature  \\\n",
       "0             0.000    0.0828    0.706  108.029       188493               4   \n",
       "1             0.814    0.0946    0.250  155.489       176880               3   \n",
       "2             0.000    0.1080    0.274  172.065       205463               4   \n",
       "3             0.000    0.2040    0.291   91.837       193043               4   \n",
       "4             0.000    0.3910    0.780  160.517       144244               4   \n",
       "\n",
       "   chorus_hit  sections  \n",
       "0    41.18681        10  \n",
       "1    33.18083         9  \n",
       "2    44.89147         9  \n",
       "3    29.52521         7  \n",
       "4    24.99199         8  "
      ]
     },
     "execution_count": 9,
     "metadata": {},
     "output_type": "execute_result"
    }
   ],
   "source": [
    "X = data.drop(columns=['target', 'uri', 'artist', 'track'], axis=1)\n",
    "y = data['target']\n",
    "X.head()"
   ]
  },
  {
   "cell_type": "code",
   "execution_count": 10,
   "metadata": {},
   "outputs": [],
   "source": [
    "X_train, X_test, y_train, y_test = train_test_split(X, y, test_size= 0.25, random_state= 42)"
   ]
  },
  {
   "cell_type": "code",
   "execution_count": 11,
   "metadata": {},
   "outputs": [],
   "source": [
    "#normalize the data\n",
    "X_train = X_train.apply(lambda x : (x - x.min()) /(x.max() - x.min()), axis=0)\n",
    "\n",
    "X_test = X_test.apply(lambda x : (x - x.min()) /(x.max() - x.min()), axis=0)\n"
   ]
  },
  {
   "cell_type": "markdown",
   "metadata": {},
   "source": [
    "## Modeling"
   ]
  },
  {
   "cell_type": "markdown",
   "metadata": {},
   "source": [
    "In this section I build and evaluate my baseline decision tree model, then make changes to that model as well as try a more complex model (random forests) to see if it will perform better at correctly classifying the songs as hits or not.\n",
    "\n",
    "For this business problem, we have a goal of recommending hit songs to Spotify users and therefore it would be better to incorrectly identify a hit song as not a hit, than to incorrectly identify a song as a hit when it isn't one. In other words, a false negative from our model is better than a false positive. We want to only recommend good-quality songs. For these reasons, the metrics used to evaluate the following models include accuracy, precision, and AUC."
   ]
  },
  {
   "cell_type": "code",
   "execution_count": 12,
   "metadata": {},
   "outputs": [
    {
     "data": {
      "text/plain": [
       "DecisionTreeClassifier(criterion='entropy', max_depth=5)"
      ]
     },
     "execution_count": 12,
     "metadata": {},
     "output_type": "execute_result"
    }
   ],
   "source": [
    "# Building a \"regular\" tree as a baseline\n",
    "\n",
    "baseline_tree = DecisionTreeClassifier(criterion='entropy', max_depth=5)\n",
    "baseline_tree.fit(X_train, y_train)\n"
   ]
  },
  {
   "cell_type": "code",
   "execution_count": 13,
   "metadata": {},
   "outputs": [],
   "source": [
    "y_hat_train = baseline_tree.predict(X_train)\n",
    "y_hat_test = baseline_tree.predict(X_test)\n"
   ]
  },
  {
   "cell_type": "code",
   "execution_count": 14,
   "metadata": {},
   "outputs": [
    {
     "name": "stdout",
     "output_type": "stream",
     "text": [
      "Training Precision for Decision Tree Classifier: 78.93%\n",
      "Testing Precision for Decision Tree Classifier: 78.11%\n",
      "Training Accuracy for Decision Tree Classifier: 82.76%\n",
      "Testing Accuracy for Decision Tree Classifier: 79.81%\n"
     ]
    }
   ],
   "source": [
    "# Precision score\n",
    "print(\"Training Precision for Decision Tree Classifier: {:.4}%\".format(precision_score(y_train, y_hat_train) * 100))\n",
    "print(\"Testing Precision for Decision Tree Classifier: {:.4}%\".format(precision_score(y_test, y_hat_test) * 100))\n",
    "\n",
    "print(\"Training Accuracy for Decision Tree Classifier: {:.4}%\".format(accuracy_score(y_train, y_hat_train) * 100))\n",
    "print(\"Testing Accuracy for Decision Tree Classifier: {:.4}%\".format(accuracy_score(y_test, y_hat_test) * 100))\n"
   ]
  },
  {
   "cell_type": "code",
   "execution_count": 15,
   "metadata": {},
   "outputs": [
    {
     "data": {
      "text/plain": [
       "0.7983447170173967"
      ]
     },
     "execution_count": 15,
     "metadata": {},
     "output_type": "execute_result"
    }
   ],
   "source": [
    "# Check the AUC of predictions\n",
    "false_positive_rate, true_positive_rate, thresholds = roc_curve(y_test, y_hat_test)\n",
    "roc_auc = auc(false_positive_rate, true_positive_rate)\n",
    "roc_auc"
   ]
  },
  {
   "cell_type": "markdown",
   "metadata": {},
   "source": [
    "###### AUC interpretation: \n",
    "Because of the fact that for this business problem we would rather have a false negative (fail to identify a song as a hit when it really is one) than a false positive (incorrectly identify a song as a hit), looking at the AUC (Area Under the Curve) can provide us with more information on the rate of false negatives to false positives. We want this value to be as close to 1.0 as possible.\n",
    "\n",
    "Our baseline model has an AUC value of about 0.80."
   ]
  },
  {
   "cell_type": "code",
   "execution_count": 16,
   "metadata": {},
   "outputs": [
    {
     "name": "stdout",
     "output_type": "stream",
     "text": [
      "Confusion Matrix:\n",
      " [[624 183]\n",
      " [140 653]]\n"
     ]
    }
   ],
   "source": [
    "cnf_matrix = confusion_matrix(y_test, y_hat_test)\n",
    "print('Confusion Matrix:\\n', cnf_matrix)"
   ]
  },
  {
   "cell_type": "code",
   "execution_count": 17,
   "metadata": {},
   "outputs": [
    {
     "data": {
      "image/png": "[encoded data removed]",
      "text/plain": [
       "<Figure size 720x720 with 2 Axes>"
      ]
     },
     "metadata": {},
     "output_type": "display_data"
    }
   ],
   "source": [
    "#CM Visualization:\n",
    "fig, ax = plt.subplots(figsize=(10,10))\n",
    "cm_1 = ConfusionMatrixDisplay(confusion_matrix = cnf_matrix, display_labels = baseline_tree.classes_)\n",
    "cm_1.plot(cmap=plt.cm.Greens, ax=ax)\n",
    "plt.xlabel('Prediction label',fontsize=15)\n",
    "plt.ylabel('True label',fontsize=15);"
   ]
  },
  {
   "cell_type": "markdown",
   "metadata": {},
   "source": [
    "###### Confusion Matrix interpretation: \n",
    "This model has 624 true positives, 140 false positives, 653 true negatives, and 183 false negatives. For this data/business problem, it is worse to have a false positive than a false negative and there are less FPs than FNs, which is a good thing."
   ]
  },
  {
   "cell_type": "markdown",
   "metadata": {},
   "source": [
    "Next, I examine how important the different features of the data are for this baseline model."
   ]
  },
  {
   "cell_type": "code",
   "execution_count": 18,
   "metadata": {},
   "outputs": [
    {
     "data": {
      "text/plain": [
       "array([0.03137781, 0.12121346, 0.00222707, 0.06339033, 0.        ,\n",
       "       0.00553143, 0.        , 0.72431934, 0.00508173, 0.04098987,\n",
       "       0.00312003, 0.        , 0.        , 0.00274894, 0.        ])"
      ]
     },
     "execution_count": 18,
     "metadata": {},
     "output_type": "execute_result"
    }
   ],
   "source": [
    "baseline_tree.feature_importances_"
   ]
  },
  {
   "cell_type": "code",
   "execution_count": 19,
   "metadata": {
    "scrolled": false
   },
   "outputs": [
    {
     "data": {
      "image/png": "[encoded data removed]",
      "text/plain": [
       "<Figure size 576x576 with 1 Axes>"
      ]
     },
     "metadata": {},
     "output_type": "display_data"
    }
   ],
   "source": [
    "# Plotting feature importances\n",
    "def plot_feature_importances(model):\n",
    "    n_features = X_train.shape[1]\n",
    "    plt.figure(figsize=(8,8))\n",
    "    plt.barh(range(n_features), model.feature_importances_, align='center') \n",
    "    plt.yticks(np.arange(n_features), X_train.columns.values) \n",
    "    plt.xlabel('Feature importance')\n",
    "    plt.ylabel('Feature')\n",
    "\n",
    "plot_feature_importances(baseline_tree)\n"
   ]
  },
  {
   "cell_type": "markdown",
   "metadata": {},
   "source": [
    "The most important features to this baseline model are instrumentalness, energy, loudness, valence, and danceability."
   ]
  },
  {
   "cell_type": "markdown",
   "metadata": {},
   "source": [
    "Next, to try and improve this baseline model, I perform a GridSearchCV to search for the optimal combination of parameters that can make our decision tree perform the best and see if it is better than the baseline model's performance."
   ]
  },
  {
   "cell_type": "code",
   "execution_count": 20,
   "metadata": {},
   "outputs": [],
   "source": [
    "dt_param_grid ={\n",
    "    \"max_depth\": [None,5,10],\n",
    "    \"min_samples_leaf\": [2, 4, 6, 8],\n",
    "    \"max_features\": [5, 7, 10]\n",
    "    \n",
    "}\n"
   ]
  },
  {
   "cell_type": "code",
   "execution_count": 21,
   "metadata": {},
   "outputs": [
    {
     "data": {
      "text/plain": [
       "GridSearchCV(cv=3,\n",
       "             estimator=DecisionTreeClassifier(criterion='entropy', max_depth=5),\n",
       "             param_grid={'max_depth': [None, 5, 10], 'max_features': [5, 7, 10],\n",
       "                         'min_samples_leaf': [2, 4, 6, 8]},\n",
       "             return_train_score=True)"
      ]
     },
     "execution_count": 21,
     "metadata": {},
     "output_type": "execute_result"
    }
   ],
   "source": [
    "# Baseline DT grid search\n",
    "dt_grid_search = GridSearchCV(baseline_tree , dt_param_grid, cv=3, return_train_score=True)\n",
    "\n",
    "dt_grid_search.fit(X_train, y_train)"
   ]
  },
  {
   "cell_type": "code",
   "execution_count": 22,
   "metadata": {},
   "outputs": [
    {
     "name": "stdout",
     "output_type": "stream",
     "text": [
      "Mean Training Score: 87.81%\n",
      "Mean Test Score: 80.25%\n",
      "Best Parameter Combination Found During Grid Search:\n"
     ]
    },
    {
     "data": {
      "text/plain": [
       "{'max_depth': 5, 'max_features': 10, 'min_samples_leaf': 6}"
      ]
     },
     "execution_count": 22,
     "metadata": {},
     "output_type": "execute_result"
    }
   ],
   "source": [
    "# Mean training score\n",
    "dt_gs_training_score = np.mean(dt_grid_search.cv_results_[\"mean_train_score\"])\n",
    "\n",
    "# Mean test score\n",
    "dt_gs_testing_score = dt_grid_search.score(X_test, y_test)\n",
    "\n",
    "print(f\"Mean Training Score: {dt_gs_training_score :.2%}\")\n",
    "print(f\"Mean Test Score: {dt_gs_testing_score :.2%}\")\n",
    "print(\"Best Parameter Combination Found During Grid Search:\")\n",
    "dt_grid_search.best_params_"
   ]
  },
  {
   "cell_type": "markdown",
   "metadata": {},
   "source": [
    "Based on this grid search, the optimal value for minimum leaf sample size is 2,\n",
    "and the optimal maximum tree depth is 5, \n",
    "and the optimal maximum number of features is 7.\n"
   ]
  },
  {
   "cell_type": "code",
   "execution_count": 23,
   "metadata": {},
   "outputs": [
    {
     "data": {
      "text/plain": [
       "0.7742975634071984"
      ]
     },
     "execution_count": 23,
     "metadata": {},
     "output_type": "execute_result"
    }
   ],
   "source": [
    "# Train a classifier with optimal values identified above\n",
    "dt = DecisionTreeClassifier(\n",
    "                            max_depth=5,\n",
    "                            min_samples_leaf=6,\n",
    "                            max_features = 7,\n",
    "                            random_state=42)\n",
    "dt.fit(X_train, y_train)\n",
    "y_pred = dt.predict(X_test)\n",
    "false_positive_rate, true_positive_rate, thresholds = roc_curve(y_test, y_pred)\n",
    "roc_auc = auc(false_positive_rate, true_positive_rate)\n",
    "roc_auc"
   ]
  },
  {
   "cell_type": "code",
   "execution_count": 24,
   "metadata": {},
   "outputs": [],
   "source": [
    "y_hat_train2 = dt.predict(X_train)\n",
    "y_hat_test2 = dt.predict(X_test)\n"
   ]
  },
  {
   "cell_type": "code",
   "execution_count": 25,
   "metadata": {},
   "outputs": [
    {
     "name": "stdout",
     "output_type": "stream",
     "text": [
      "Training precision score for decision tree model with tuned hyperparameters: 78.22%\n",
      "Testing precision score for decision tree model with tuned hyperparameters: 77.62%\n",
      "Training accuracy score for decision tree model with tuned hyperparameters: 82.7%\n",
      "Testing accuracy score for decision tree model with tuned hyperparameters:77.44%\n"
     ]
    }
   ],
   "source": [
    "print(\"Training precision score for decision tree model with tuned hyperparameters: {:.4}%\".format(precision_score(y_train, y_hat_train2) * 100))\n",
    "print(\"Testing precision score for decision tree model with tuned hyperparameters: {:.4}%\".format(precision_score(y_test, y_hat_test2) * 100))\n",
    "\n",
    "print(\"Training accuracy score for decision tree model with tuned hyperparameters: {:.4}%\".format(accuracy_score(y_train, y_hat_train2)* 100))\n",
    "print(\"Testing accuracy score for decision tree model with tuned hyperparameters:{:.4}%\".format(accuracy_score(y_test, y_hat_test2)* 100))"
   ]
  },
  {
   "cell_type": "markdown",
   "metadata": {},
   "source": [
    "Changing these parameters did not improve the baseline model."
   ]
  },
  {
   "cell_type": "markdown",
   "metadata": {},
   "source": [
    "### Building a random forests model:"
   ]
  },
  {
   "cell_type": "code",
   "execution_count": 26,
   "metadata": {},
   "outputs": [
    {
     "data": {
      "text/plain": [
       "RandomForestClassifier(max_features='sqrt', max_samples=0.5, random_state=42)"
      ]
     },
     "execution_count": 26,
     "metadata": {},
     "output_type": "execute_result"
    }
   ],
   "source": [
    "#Fit a random forests model\n",
    "forest = RandomForestClassifier(max_features='sqrt',\n",
    "                               max_samples = 0.5,\n",
    "                               random_state=42)\n",
    "forest.fit(X_train, y_train)"
   ]
  },
  {
   "cell_type": "code",
   "execution_count": 27,
   "metadata": {},
   "outputs": [],
   "source": [
    "y_hat_train3 = forest.predict(X_train)\n",
    "y_hat_test3 = forest.predict(X_test)\n"
   ]
  },
  {
   "cell_type": "code",
   "execution_count": 28,
   "metadata": {},
   "outputs": [
    {
     "name": "stdout",
     "output_type": "stream",
     "text": [
      "Training precision score for random forests model: 95.51%\n",
      "Testing precision score for random forests model: 85.84%\n",
      "Training accuracy score for random forests model: 96.71%\n",
      "Testing accuracy score for random forests model: 76.69%\n"
     ]
    }
   ],
   "source": [
    "print(\"Training precision score for random forests model: {:.4}%\".format(precision_score(y_train, y_hat_train3) * 100))\n",
    "print(\"Testing precision score for random forests model: {:.4}%\".format(precision_score(y_test, y_hat_test3) * 100))\n",
    "\n",
    "print(\"Training accuracy score for random forests model: {:.4}%\".format(accuracy_score(y_train, y_hat_train3)* 100))\n",
    "print(\"Testing accuracy score for random forests model: {:.4}%\".format(accuracy_score(y_test, y_hat_test3)* 100))\n"
   ]
  },
  {
   "cell_type": "markdown",
   "metadata": {},
   "source": [
    "###### Interpretation:\n",
    "This random forests model had both a higher precision score and a higher accuracy score than our baseline decision tree. However, it appears that the model may be overfitting. This means that the model is over-confident/too familiar with the training data. "
   ]
  },
  {
   "cell_type": "markdown",
   "metadata": {},
   "source": [
    " Now, we create a parameter grid specific to our random forest classifier to try and improve its performance:"
   ]
  },
  {
   "cell_type": "code",
   "execution_count": 29,
   "metadata": {},
   "outputs": [],
   "source": [
    "\n",
    "rf_param_grid = {\n",
    "    \"max_depth\": [None, 5],\n",
    "    \"max_features\": [5, 7, 10],\n",
    "    'min_samples_leaf': [4, 6, 8, 10]\n",
    "}\n"
   ]
  },
  {
   "cell_type": "code",
   "execution_count": 30,
   "metadata": {
    "scrolled": true
   },
   "outputs": [
    {
     "name": "stdout",
     "output_type": "stream",
     "text": [
      "Testing Accuracy: 84.41%\n",
      "\n",
      "Optimal Parameters: {'max_depth': None, 'max_features': 10, 'min_samples_leaf': 6}\n"
     ]
    }
   ],
   "source": [
    "# Now perform the GridSearchCV\n",
    "rf_grid_search = GridSearchCV(forest, rf_param_grid, cv=3)\n",
    "rf_grid_search.fit(X_train, y_train)\n",
    "\n",
    "print(f\"Testing Accuracy: {rf_grid_search.best_score_ :.2%}\")\n",
    "print(\"\")\n",
    "print(f\"Optimal Parameters: {rf_grid_search.best_params_}\")"
   ]
  },
  {
   "cell_type": "code",
   "execution_count": 31,
   "metadata": {},
   "outputs": [
    {
     "data": {
      "text/plain": [
       "0.8064719017549782"
      ]
     },
     "execution_count": 31,
     "metadata": {},
     "output_type": "execute_result"
    }
   ],
   "source": [
    "# Train a new random forests model with optimal values identified above\n",
    "rf = RandomForestClassifier(max_depth=None,\n",
    "                            max_features = 10,\n",
    "                            min_samples_leaf=6,\n",
    "                            random_state=42)\n",
    "rf.fit(X_train, y_train)\n",
    "y_train_rf = rf.predict(X_train)\n",
    "y_pred_rf = rf.predict(X_test)\n",
    "false_positive_rate, true_positive_rate, thresholds = roc_curve(y_test, y_pred_rf)\n",
    "roc_auc = auc(false_positive_rate, true_positive_rate)\n",
    "roc_auc"
   ]
  },
  {
   "cell_type": "code",
   "execution_count": 32,
   "metadata": {},
   "outputs": [
    {
     "name": "stdout",
     "output_type": "stream",
     "text": [
      "Training precision score for random forests model with tuned hyperparameters: 90.48%\n",
      "Testing precision score for random forests model with tuned hyperparameters: 83.52%\n",
      "Training accuracy score for random forests model with tuned hyperparameters: 93.29%\n",
      "Testing accuracy score for random forests model with tuned hyperparameters:80.69%\n"
     ]
    }
   ],
   "source": [
    "print(\"Training precision score for random forests model with tuned hyperparameters: {:.4}%\".format(precision_score(y_train, y_train_rf) * 100))\n",
    "print(\"Testing precision score for random forests model with tuned hyperparameters: {:.4}%\".format(precision_score(y_test, y_pred_rf) * 100))\n",
    "\n",
    "print(\"Training accuracy score for random forests model with tuned hyperparameters: {:.4}%\".format(accuracy_score(y_train, y_train_rf)* 100))\n",
    "print(\"Testing accuracy score for random forests model with tuned hyperparameters:{:.4}%\".format(accuracy_score(y_test, y_pred_rf)* 100))"
   ]
  },
  {
   "cell_type": "markdown",
   "metadata": {},
   "source": [
    "These metrics are better, however there is still some overfitting. If you change the maximum depth to 5, the AUC score and the precision goes down a little bit, but there is less overfitting."
   ]
  },
  {
   "cell_type": "code",
   "execution_count": 35,
   "metadata": {},
   "outputs": [
    {
     "data": {
      "text/plain": [
       "0.824217791674675"
      ]
     },
     "execution_count": 35,
     "metadata": {},
     "output_type": "execute_result"
    }
   ],
   "source": [
    "rf2 = RandomForestClassifier(max_depth=5,\n",
    "                            max_features = 10,\n",
    "                            min_samples_leaf=6,\n",
    "                            random_state=42)\n",
    "rf2.fit(X_train, y_train)\n",
    "y_train_rf2 = rf2.predict(X_train)\n",
    "y_pred_rf2 = rf2.predict(X_test)\n",
    "false_positive_rate, true_positive_rate, thresholds = roc_curve(y_test, y_pred_rf2)\n",
    "roc_auc = auc(false_positive_rate, true_positive_rate)\n",
    "roc_auc"
   ]
  },
  {
   "cell_type": "code",
   "execution_count": 36,
   "metadata": {},
   "outputs": [
    {
     "name": "stdout",
     "output_type": "stream",
     "text": [
      "Training precision score for random forests model with tuned hyperparameters: 79.35%\n",
      "Testing precision score for random forests model with tuned hyperparameters: 79.0%\n",
      "Training accuracy score for random forests model with tuned hyperparameters: 84.45%\n",
      "Testing accuracy score for random forests model with tuned hyperparameters:82.38%\n"
     ]
    }
   ],
   "source": [
    "print(\"Training precision score for random forests model with tuned hyperparameters: {:.4}%\".format(precision_score(y_train, y_train_rf2) * 100))\n",
    "print(\"Testing precision score for random forests model with tuned hyperparameters: {:.4}%\".format(precision_score(y_test, y_pred_rf2) * 100))\n",
    "\n",
    "print(\"Training accuracy score for random forests model with tuned hyperparameters: {:.4}%\".format(accuracy_score(y_train, y_train_rf2)* 100))\n",
    "print(\"Testing accuracy score for random forests model with tuned hyperparameters:{:.4}%\".format(accuracy_score(y_test, y_pred_rf2)* 100))"
   ]
  },
  {
   "cell_type": "markdown",
   "metadata": {},
   "source": [
    "<em>This will be our <b>final model</b></em>, with:\n",
    "- an AUC score of about 0.82, which is slightly better than our baseline AUC score of about 0.80 \n",
    "- a testing precision score of about 79.0%, which is slighly better than our baseline testing precision of about 78.1% \n",
    "- a testing accuracy score of about 82.4%, which is slightly better than our baseline accuracy score of 79.8%"
   ]
  },
  {
   "cell_type": "code",
   "execution_count": 38,
   "metadata": {},
   "outputs": [
    {
     "name": "stdout",
     "output_type": "stream",
     "text": [
      "Confusion Matrix:\n",
      " [[622 185]\n",
      " [ 97 696]]\n"
     ]
    }
   ],
   "source": [
    "cnf_matrix2 = confusion_matrix(y_test, y_pred_rf2)\n",
    "print('Confusion Matrix:\\n', cnf_matrix2)"
   ]
  },
  {
   "cell_type": "code",
   "execution_count": 43,
   "metadata": {},
   "outputs": [
    {
     "data": {
      "image/png": "[encoded data removed]",
      "text/plain": [
       "<Figure size 720x720 with 2 Axes>"
      ]
     },
     "metadata": {},
     "output_type": "display_data"
    }
   ],
   "source": [
    "fig, ax = plt.subplots(figsize=(10,10))\n",
    "cm_2 = ConfusionMatrixDisplay(confusion_matrix = cnf_matrix2, display_labels = rf2.classes_)\n",
    "cm_2.plot(cmap=plt.cm.Greens, ax=ax)\n",
    "plt.xlabel('Prediction label',fontsize=15)\n",
    "plt.ylabel('True label',fontsize=15);\n"
   ]
  },
  {
   "cell_type": "markdown",
   "metadata": {},
   "source": [
    "###### Confusion Matrix interpretation: \n",
    "This model has 622 true positives, 97 false positives, 696 true negatives, and 185 false negatives. \n",
    "Once again there are less False Positives than False Negatives, which is what we want. Additionally, there are less of both FPs and FNs than there were in the baseline model.\n"
   ]
  },
  {
   "cell_type": "code",
   "execution_count": 40,
   "metadata": {},
   "outputs": [
    {
     "data": {
      "image/png": "[encoded data removed]",
      "text/plain": [
       "<Figure size 576x576 with 1 Axes>"
      ]
     },
     "metadata": {},
     "output_type": "display_data"
    }
   ],
   "source": [
    "# Feature importances of final model:\n",
    "\n",
    "plot_feature_importances(rf2)"
   ]
  },
  {
   "cell_type": "markdown",
   "metadata": {},
   "source": [
    "The most important features for this model are instrumentalness, danceability, energy, loudness, and acousticness. These are mostly the same features that were most important to our baseline model, except acousticness is more important here."
   ]
  },
  {
   "cell_type": "code",
   "execution_count": 41,
   "metadata": {},
   "outputs": [
    {
     "data": {
      "image/png": "[encoded data removed]",
      "text/plain": [
       "<Figure size 720x720 with 1 Axes>"
      ]
     },
     "metadata": {},
     "output_type": "display_data"
    }
   ],
   "source": [
    "features = X.columns\n",
    "importances = rf2.feature_importances_\n",
    "indices = np.argsort(importances)\n",
    "\n",
    "num_features = 5 \n",
    "\n",
    "plt.figure(figsize=(10,10))\n",
    "plt.title('Feature Importances', fontsize=15)\n",
    "\n",
    "plt.barh(range(num_features), importances[indices[-num_features:]], color='springgreen', align='center')\n",
    "plt.yticks(range(num_features), [features[i] for i in indices[-num_features:]])\n",
    "plt.xlabel('Relative Importance', fontsize=15)\n",
    "plt.ylabel('Feature', fontsize=15)\n",
    "plt.show()"
   ]
  },
  {
   "cell_type": "markdown",
   "metadata": {},
   "source": [
    "## Evaluation"
   ]
  },
  {
   "cell_type": "markdown",
   "metadata": {},
   "source": [
    "Our final model is about 81.8% accurate and about 77.6% precise in correctly identifying songs as hits or not. The rate of false negatives to false positives (AUC) was about 0.82. This is an improvement to our baseline model which was a single decision tree before hyperparameter tuning that was about 80.3% accurate, about 76.8% precise in classifying our target and had an AUC of about 0.81. "
   ]
  },
  {
   "cell_type": "markdown",
   "metadata": {},
   "source": [
    "## Conclusion"
   ]
  },
  {
   "cell_type": "markdown",
   "metadata": {},
   "source": [
    "##### Recommendations:\n",
    "Hit songs should have the following features:\n",
    "- Danceability\n",
    "- Energy\n",
    "- Loudness\n",
    "- Acousticness \n",
    "\n",
    "Songs should not be too high in instrumentalness, because it is highly correlated with a song <em>not</em> being a hit.\n"
   ]
  },
  {
   "cell_type": "markdown",
   "metadata": {},
   "source": [
    "##### Next Steps:\n",
    "- Compare data from other decades\n",
    "    - Are there any trends?\n",
    "- Investigate whether genre is an important feature when determining whether or not a song will be a hit"
   ]
  },
  {
   "cell_type": "markdown",
   "metadata": {},
   "source": [
    "##### Context:\n",
    "This notebook was created alongside a README file, a miscellaneous notebook, and a slides presentation. All of these can be found on the <a href=\"https://github.com/nicolemichaud03/Spotify_hit_songs_classification\">GitHub repository</a> for this project.\n",
    "\n"
   ]
  }
 ],
 "metadata": {
  "kernelspec": {
   "display_name": "Python (learn-env)",
   "language": "python",
   "name": "learn-env"
  },
  "language_info": {
   "codemirror_mode": {
    "name": "ipython",
    "version": 3
   },
   "file_extension": ".py",
   "mimetype": "text/x-python",
   "name": "python",
   "nbconvert_exporter": "python",
   "pygments_lexer": "ipython3",
   "version": "3.8.5"
  }
 },
 "nbformat": 4,
 "nbformat_minor": 4
}
